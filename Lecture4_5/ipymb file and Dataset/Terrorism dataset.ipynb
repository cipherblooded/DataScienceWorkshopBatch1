{
 "cells": [
  {
   "cell_type": "code",
   "execution_count": null,
   "metadata": {},
   "outputs": [],
   "source": [
    "import numpy as np\n",
    "import pandas as pd\n"
   ]
  },
  {
   "cell_type": "code",
   "execution_count": null,
   "metadata": {},
   "outputs": [],
   "source": [
    "def isNaN(n):\n",
    "    return n!=n"
   ]
  },
  {
   "cell_type": "code",
   "execution_count": null,
   "metadata": {
    "scrolled": true
   },
   "outputs": [],
   "source": [
    "td=pd.read_csv('klapeye-global-terrorism.csv')\n",
    "td"
   ]
  },
  {
   "cell_type": "code",
   "execution_count": null,
   "metadata": {},
   "outputs": [],
   "source": [
    "#give the timeline of first  incident in the dataset\n",
    "DATE={}\n",
    "\n",
    "for i in range(27128):\n",
    "    year=int(td['DATE'][i][0:4])\n",
    "    month=int(td['DATE'][i][5:7])\n",
    "    day=int(td['DATE'][i][8:10])\n",
    "    if 'year' in DATE.keys() and year<=int(DATE['year']):\n",
    "        DATE['year']=year\n",
    "        if month<=int(DATE['month']):\n",
    "            DATE['month']=month\n",
    "            if day<int(DATE['day']):\n",
    "                DATE['day']=day\n",
    "    elif 'year' not in DATE.keys():\n",
    "        DATE['year']=year\n",
    "        DATE['month']=month\n",
    "        DATE['day']=day\n",
    "\n",
    "print(DATE)"
   ]
  },
  {
   "cell_type": "markdown",
   "metadata": {},
   "source": [
    "# QUESTIONS\n",
    "\n",
    "\n",
    "1. give the total number of countries involved in the dataset\n",
    "\n",
    "\n",
    "2. name the terrorist organization which has took responsibility of most number of attacks\n",
    "\n",
    "3. find the total no. of diff. regions countrywise in the dataset\n",
    "\n",
    "4. find the country with the maximum number of terror attacks\n",
    "\n",
    "5. find the country with lowest terrorist activity\n",
    "\n",
    "6. sort the countries in order of terror activity (high to low)\n",
    "\n",
    "7. find the region with the maximum number of terror attacks\n",
    "\n",
    "8. find the region with the lowest number of terror attacks\n",
    "\n",
    "9. sort the region in order of terror activity (low to high)\n",
    "\n",
    "\n",
    "10. find total unique kind of terror attacks\n",
    "\n",
    "11. find total no. of incidents of every type of terror attack.\n",
    "\n",
    "12. find the terror attack with most number of deaths\n",
    "\n",
    "13. find the terror attack with highest number of injuries\n",
    "\n",
    "14. find the count of kinds of terror activities happened in Baghdad\n",
    "\n",
    "15. find total no. of terror activities happened in Israel\n",
    "\n",
    "16. PLOT THE DEATHS VS YEAR LINE GRAPH\n",
    "\n",
    "\n"
   ]
  },
  {
   "cell_type": "code",
   "execution_count": null,
   "metadata": {},
   "outputs": [],
   "source": [
    "#name the terrorist organization which has took responsibility of most number of attacks\n",
    "\n",
    "\n",
    "#methodology: create a dictonary for total no. of attcks, \n",
    "# step 2:convert to list\n",
    "# step 3: find max of the list and index corrosponding to it\n",
    "# step 4: find group corrosponding to hieghest attck"
   ]
  },
  {
   "cell_type": "code",
   "execution_count": null,
   "metadata": {},
   "outputs": [],
   "source": [
    "# SOLUTION\n",
    "uni_con={}\n",
    "for i in td['PERPETRATOR']:\n",
    "    \n",
    "    if isNaN(i)==False and i not in uni_con.keys():\n",
    "        uni_con[i]=1\n",
    "    elif isNaN(i)==False:\n",
    "        uni_con[i]+=1\n",
    "group=list(uni_con.keys()) #convert keys into list\n",
    "attacks=list(uni_con.values())#convert values into list\n",
    "\n",
    "index=attacks.index(max(attacks))\n",
    "group1=group[index]\n",
    "print('#1 group in terrorist activity: ',group1)\n",
    "print('total claimed terrorist activity: ',attacks[index])\n",
    "\n"
   ]
  },
  {
   "cell_type": "code",
   "execution_count": null,
   "metadata": {},
   "outputs": [],
   "source": [
    "#find the total no. of diff. regions countrywise in the dataset\n",
    "\n",
    "# methodology:\n",
    "# step1: Prepare a dictionary with keys as unique countries and value as a list of unique regions in it\n",
    "#step 2: to get the total unique countries print the list of keys \n",
    "# step 3: to get the total unique regions country wise prit the list of values\n",
    "\n",
    "\n",
    "\n",
    "CWR={}\n",
    "for i in range(27129):\n",
    "    country=td['COUNTRY'][i]\n",
    "    region=td['REGION'][i]\n",
    "    if isNaN(country)==False and isNaN(region)==False:\n",
    "        if country not in CWR:\n",
    "            CWR[country]=[]\n",
    "            CWR[country].append(str(region))\n",
    "\n",
    "        elif region not in CWR[country]:\n",
    "            CWR[country].append(str(region))\n",
    "        \n"
   ]
  },
  {
   "cell_type": "code",
   "execution_count": null,
   "metadata": {},
   "outputs": [],
   "source": [
    "#find the country with the maximum number of terror attacks\n",
    "uni_con={}\n",
    "for i in td['COUNTRY']:\n",
    "    \n",
    "    if isNaN(i)==False:\n",
    "        if i not in uni_con.keys():\n",
    "            uni_con[i]=1\n",
    "        else:\n",
    "            uni_con[i]+=1\n",
    "group=list(uni_con.keys()) #convert keys into list\n",
    "attacks=list(uni_con.values())#convert values into list\n",
    "\n",
    "index=attacks.index(max(attacks))\n",
    "group1=group[index]\n",
    "print('#1 country in terrorist activity: ',group1)\n",
    "print('total  terrorist activity: ',attacks[index])"
   ]
  },
  {
   "cell_type": "code",
   "execution_count": null,
   "metadata": {},
   "outputs": [],
   "source": [
    "#find the country with the lowest number of terror attacks\n",
    "uni_con={}\n",
    "for i in td['COUNTRY']:\n",
    "    \n",
    "    if isNaN(i)==False:\n",
    "        if i not in uni_con.keys():\n",
    "            uni_con[i]=1\n",
    "        else:\n",
    "            uni_con[i]+=1\n",
    "group=list(uni_con.keys()) #convert keys into list\n",
    "attacks=list(uni_con.values())#convert values into list\n",
    "\n",
    "index=attacks.index(min(attacks))\n",
    "group1=group[index]\n",
    "print('# -1 country in terrorist activity: ',group1)\n",
    "print('total  terrorist activity: ',attacks[index])"
   ]
  },
  {
   "cell_type": "code",
   "execution_count": null,
   "metadata": {},
   "outputs": [],
   "source": [
    "# sort the countries in order of terror activity (high to low)\n",
    "\n",
    "#methodology:\n",
    "#step1: get list of contries and corrosponding terror attacks\n",
    "#step2: in a loop with range of length of the list, get the max value of attacks list\n",
    "#step3: get the corrosponding index of max no. of attack\n",
    "#step4: append the same index in new list and erase the index from the previous list\n",
    "\n",
    "keys=list(uni_con.keys())\n",
    "values=list(uni_con.values())\n",
    "orderedkeys=[]\n",
    "orderedvalues=[]\n",
    "\n",
    "for i in range(len(keys)):\n",
    "    index=values.index(max(values))\n",
    "    orderedkeys.append(keys[index])\n",
    "    orderedvalues.append(values[index])\n",
    "    \n",
    "    keys.pop(index)\n",
    "    values.pop(index)\n",
    "    \n",
    "print(orderedkeys)\n",
    "print(orderedvalues)\n",
    "    \n",
    "    \n",
    "\n"
   ]
  },
  {
   "cell_type": "code",
   "execution_count": null,
   "metadata": {},
   "outputs": [],
   "source": [
    "#find the region with the maximum number of terror attacks\n",
    "uni_con={}\n",
    "for i in td['REGION']:\n",
    "    \n",
    "    if isNaN(i)==False:\n",
    "        if i not in uni_con.keys():\n",
    "            uni_con[i]=1\n",
    "        else:\n",
    "            uni_con[i]+=1\n",
    "group=list(uni_con.keys()) #convert keys into list\n",
    "attacks=list(uni_con.values())#convert values into list\n",
    "\n",
    "index=attacks.index(max(attacks))\n",
    "group1=group[index]\n",
    "print('#1 region in terrorist activity: ',group1)\n",
    "print('total  terrorist activity: ',attacks[index])"
   ]
  },
  {
   "cell_type": "code",
   "execution_count": null,
   "metadata": {},
   "outputs": [],
   "source": [
    "#find the region with the lowest number of terror attacks\n",
    "uni_con={}\n",
    "for i in td['REGION']:\n",
    "    \n",
    "    if isNaN(i)==False:\n",
    "        if i not in uni_con.keys():\n",
    "            uni_con[i]=1\n",
    "        else:\n",
    "            uni_con[i]+=1\n",
    "group=list(uni_con.keys()) #convert keys into list\n",
    "attacks=list(uni_con.values())#convert values into list\n",
    "\n",
    "index=attacks.index(min(attacks))\n",
    "group1=group[index]\n",
    "print('#-1 region in terrorist activity: ',group1)\n",
    "print('total  terrorist activity: ',attacks[index])"
   ]
  },
  {
   "cell_type": "code",
   "execution_count": null,
   "metadata": {
    "scrolled": true
   },
   "outputs": [],
   "source": [
    "#sort the region in order of terror activity (low to high)\n",
    "\n",
    "#methodology:\n",
    "#step1: get list of contries and corrosponding terror attacks\n",
    "#step2: in a loop with range of length of the list, get the max value of attacks list\n",
    "#step3: get the corrosponding index of max no. of attack\n",
    "#step4: append the same index in new list and erase the index from the previous list\n",
    "uni_con={}\n",
    "for i in td['REGION']:\n",
    "    \n",
    "    if isNaN(i)==False:\n",
    "        if i not in uni_con.keys():\n",
    "            uni_con[i]=1\n",
    "        else:\n",
    "            uni_con[i]+=1\n",
    "            \n",
    "keys=list(uni_con.keys())\n",
    "values=list(uni_con.values())\n",
    "\n",
    "orderedkeys=list()\n",
    "orderedvalues=list()\n",
    "\n",
    "for i in range(len(keys)):\n",
    "    index=values.index(min(values))\n",
    "    orderedkeys.append(keys[index])\n",
    "    orderedvalues.append(values[index])\n",
    "    \n",
    "    keys.pop(index)\n",
    "    values.pop(index)\n",
    "    \n",
    "print(orderedkeys)\n",
    "print(orderedvalues)\n",
    "    \n",
    "    "
   ]
  },
  {
   "cell_type": "code",
   "execution_count": null,
   "metadata": {},
   "outputs": [],
   "source": [
    "#total unique kind of terror attack\n",
    "\n",
    "uni_con={}\n",
    "for i in td['ATTACK TYPE']:\n",
    "    \n",
    "    if isNaN(i)==False and i not in uni_con.keys():\n",
    "        uni_con[i]=1\n",
    "\n",
    "print(len(uni_con.keys()))\n",
    "\n"
   ]
  },
  {
   "cell_type": "code",
   "execution_count": null,
   "metadata": {},
   "outputs": [],
   "source": [
    "#total number of incidents of every terror attack\n",
    "\n",
    "uni_con={}\n",
    "for i in td['ATTACK TYPE']:\n",
    "    \n",
    "    if isNaN(i)==False and i not in uni_con.keys():\n",
    "        uni_con[i]=1\n",
    "    elif isNaN(i)==False:\n",
    "        uni_con[i]+=1\n",
    "\n",
    "\n",
    "\n",
    "\n",
    "group=list(uni_con.keys()) #convert keys into list\n",
    "attacks=list(uni_con.values())#convert values into list\n",
    "\n",
    "index=attacks.index(max(attacks))\n",
    "group1=group[index]\n",
    "print('#1 performed terror activity: ',group1)\n",
    "print('total cases: ',attacks[index])\n",
    "uni_con"
   ]
  },
  {
   "cell_type": "code",
   "execution_count": null,
   "metadata": {},
   "outputs": [],
   "source": [
    "#find the details of terror attack with most number of deaths\n",
    "mostd=0\n",
    "for i in range(27129):\n",
    "    death=td['DEAD'][i]\n",
    "    if isNaN(death)==False and death>mostd:\n",
    "        mostd=death\n",
    "index=list(td['DEAD']).index(mostd)\n",
    "td.loc[[index]]\n"
   ]
  },
  {
   "cell_type": "code",
   "execution_count": null,
   "metadata": {},
   "outputs": [],
   "source": [
    "#find the details of terror attack with most number of injuries\n",
    "mostd=0\n",
    "for i in range(27129):\n",
    "    death=td['INJURED'][i]\n",
    "    if isNaN(death)==False and death>mostd:\n",
    "        mostd=death\n",
    "index=list(td['INJURED']).index(mostd)\n",
    "td.loc[[index]]\n"
   ]
  },
  {
   "cell_type": "code",
   "execution_count": null,
   "metadata": {},
   "outputs": [],
   "source": [
    "#find the count of kinds of terror activities happened in baghdad\n",
    "\n",
    "uni_con={}\n",
    "for i in range(27129):\n",
    "    if td['REGION'][i]=='Baghdad':\n",
    "        j=td['ATTACK TYPE'][i]\n",
    "        if isNaN(j)==False and j not in uni_con.keys():\n",
    "            uni_con[j]=1\n",
    "        elif isNaN(j)==False:\n",
    "            uni_con[j]+=1\n",
    "\n",
    "\n",
    "\n",
    "\n",
    "group=list(uni_con.keys()) #convert keys into list\n",
    "attacks=list(uni_con.values())#convert values into list\n",
    "\n",
    "index=attacks.index(max(attacks))\n",
    "group1=group[index]\n",
    "print('#1 performed terror activity in Baghdad: ',group1)\n",
    "print('total cases: ',attacks[index])\n",
    "uni_con"
   ]
  },
  {
   "cell_type": "code",
   "execution_count": null,
   "metadata": {},
   "outputs": [],
   "source": [
    "#find total no. of terror activities happened in Israel\n",
    "\n",
    "count=0\n",
    "for i in range(27129):\n",
    "    if td['COUNTRY'][i]=='Israel':\n",
    "        count+=1\n",
    "count    "
   ]
  },
  {
   "cell_type": "code",
   "execution_count": null,
   "metadata": {},
   "outputs": [],
   "source": [
    "#PLOT THE DEATHS VS YEAR LINE GRAPH"
   ]
  },
  {
   "cell_type": "code",
   "execution_count": null,
   "metadata": {},
   "outputs": [],
   "source": [
    "import matplotlib.pyplot as plt"
   ]
  },
  {
   "cell_type": "code",
   "execution_count": null,
   "metadata": {},
   "outputs": [],
   "source": [
    "y_deaths={}\n",
    "for i in range(27129):\n",
    "    year=td['DATE'][i][0:4]\n",
    "    if isNaN(td['DEAD'][i])==False:\n",
    "        if year not in y_deaths.keys():\n",
    "            y_deaths[year]=int(td['DEAD'][i])\n",
    "        else:\n",
    "            y_deaths[year]+=td['DEAD'][i]\n",
    "        \n",
    "y_deaths"
   ]
  },
  {
   "cell_type": "code",
   "execution_count": null,
   "metadata": {},
   "outputs": [],
   "source": [
    "\n",
    "plt.plot(y_deaths.keys(),y_deaths.values())\n",
    "plt.title('Deaths per Year')\n",
    "plt.xlabel('YEAR')\n",
    "plt.ylabel('Deaths')\n",
    "plt.grid(True)\n",
    "plt.show()"
   ]
  }
 ],
 "metadata": {
  "kernelspec": {
   "display_name": "Python 3",
   "language": "python",
   "name": "python3"
  },
  "language_info": {
   "codemirror_mode": {
    "name": "ipython",
    "version": 3
   },
   "file_extension": ".py",
   "mimetype": "text/x-python",
   "name": "python",
   "nbconvert_exporter": "python",
   "pygments_lexer": "ipython3",
   "version": "3.8.5"
  }
 },
 "nbformat": 4,
 "nbformat_minor": 4
}
