{
 "cells": [
  {
   "cell_type": "code",
   "execution_count": null,
   "metadata": {},
   "outputs": [],
   "source": [
    "import pandas as pd\n",
    "data=pd.read_csv('amazon_jobs_dataset.csv')\n",
    "data"
   ]
  },
  {
   "cell_type": "markdown",
   "metadata": {},
   "source": [
    "# Questions\n",
    " 1. total number of unique job roles\n",
    " 2. find total unique job locations\n",
    "\n",
    " 3. find total jobs in US\n",
    " 4. Count the number of times word 'Amazon' occours in whole dataset\n",
    " 5. How many jobs require 'Bachelor's Degree in Computer Science' in India\n",
    " 6. total jobs with title as 'Software Development Manager'\n",
    " 7. total jobs of 'Software Development Engineer' in Bangalore\n",
    " 8. total jobs of Software Development Engineer in Test\trequiring a Bachelor’s degree\n",
    "\n",
    " 9. Add a column of Country, state and city according to job location"
   ]
  },
  {
   "cell_type": "code",
   "execution_count": null,
   "metadata": {},
   "outputs": [],
   "source": [
    "# 1. total number of unique job roles\n",
    "len(list(data['Title'].unique()))"
   ]
  },
  {
   "cell_type": "code",
   "execution_count": null,
   "metadata": {},
   "outputs": [],
   "source": [
    "#2. find total unique job locations\n",
    "country={}\n",
    "for i in range(3493):\n",
    "    if data['location'][i][0:2] not in country.keys():\n",
    "        country[data['location'][i][0:2]]=1\n",
    "    else:\n",
    "        country[data['location'][i][0:2]]+=1\n",
    "country"
   ]
  },
  {
   "cell_type": "code",
   "execution_count": null,
   "metadata": {},
   "outputs": [],
   "source": [
    "#3. find total jobs in US\n",
    "count=0\n",
    "for i in range(3493):\n",
    "    if data['location'][i][0:2]=='US':\n",
    "        count+=1\n",
    "count"
   ]
  },
  {
   "cell_type": "code",
   "execution_count": null,
   "metadata": {},
   "outputs": [],
   "source": [
    "# 4.Count the number of times word 'Amazon' occours in the description of whole dataset\n",
    "total=0\n",
    "for i in range(3493):\n",
    "    total+=str(data['DESCRIPTION'][i]).count('Amazon')\n",
    "print(count)"
   ]
  },
  {
   "cell_type": "code",
   "execution_count": null,
   "metadata": {},
   "outputs": [],
   "source": [
    "# 5. How many jobs require 'Bachelor's Degree in Computer Science' in India\n",
    "\n",
    "total=0\n",
    "for i in range(3493):\n",
    "    if data['location'][i][0:2]=='IN' and \"Bachelor's Degree in Computer Science\" in str(data['BASIC QUALIFICATIONS'][i]):\n",
    "        total+=1\n",
    "total"
   ]
  },
  {
   "cell_type": "code",
   "execution_count": null,
   "metadata": {},
   "outputs": [],
   "source": [
    "#6. total jobs with title as 'Software Development Manager'\n",
    "list(data['Title']).count('Software Development Manager')"
   ]
  },
  {
   "cell_type": "code",
   "execution_count": null,
   "metadata": {},
   "outputs": [],
   "source": [
    "#7. total jobs of 'Software Development Engineer' in Bangalore \n",
    "count=0\n",
    "for i in range(3493):\n",
    "    if data['Title'][i]=='Software Development Engineer' and 'Bangalore' in data['location'][i]:\n",
    "        count+=1\n",
    "count\n",
    "        "
   ]
  },
  {
   "cell_type": "code",
   "execution_count": null,
   "metadata": {},
   "outputs": [],
   "source": [
    "#8. total jobs of Software Development Engineer in Test\trequiring a Bachelor’s degree\n",
    "count=0\n",
    "for i in range(3493):\n",
    "    if data['Title'][i]=='Software Development Engineer in Test' and 'Bachelor’s degree' in data['BASIC QUALIFICATIONS'][i]:\n",
    "        count+=1\n",
    "count\n",
    "       "
   ]
  },
  {
   "cell_type": "code",
   "execution_count": null,
   "metadata": {},
   "outputs": [],
   "source": [
    "#9. Add a column of Country, state and city according to job location\n",
    "\n",
    "data['country']=data['location']\n",
    "data['state']=data['location']\n",
    "data['city']=data['location']\n",
    "for i in range(3493):\n",
    "    data['country'][i]=str(data['location'][i])[0:2]\n",
    "    data['state'][i]=str(data['location'][i])[4:6]\n",
    "    data['city'][i]=str(data['location'][i])[8:-1]\n",
    "data\n",
    "\n"
   ]
  }
 ],
 "metadata": {
  "kernelspec": {
   "display_name": "Python 3",
   "language": "python",
   "name": "python3"
  },
  "language_info": {
   "codemirror_mode": {
    "name": "ipython",
    "version": 3
   },
   "file_extension": ".py",
   "mimetype": "text/x-python",
   "name": "python",
   "nbconvert_exporter": "python",
   "pygments_lexer": "ipython3",
   "version": "3.8.5"
  }
 },
 "nbformat": 4,
 "nbformat_minor": 4
}
